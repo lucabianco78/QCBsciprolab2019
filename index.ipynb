{
 "cells": [
  {
   "cell_type": "markdown",
   "metadata": {},
   "source": [
    "# Scientific Programming for QCB"
   ]
  },
  {
   "cell_type": "raw",
   "metadata": {
    "raw_mimetype": "text/html"
   },
   "source": [
    "\n",
    " Download: <a href=\"http://readthedocs.org/projects/qcbsciprolab/downloads/pdf/latest/\" target=\"_blank\">PDF</a>\n",
    "           <a href=\"http://readthedocs.org/projects/qcbsciprolab/downloads/epub/latest/\" target=\"_blank\"> EPUB </a>\n",
    "           <a href=\"http://readthedocs.org/projects/qcbsciprolab/downloads/htmlzip/latest/\" target=\"_blank\"> HTML </a>\n",
    " <br/>\n",
    " <br/>"
   ]
  },
  {
   "cell_type": "markdown",
   "metadata": {},
   "source": [
    "# General Info\n",
    "\n",
    "The contacts to reach me can be found [at this page](http://www.fmach.it/CRI/info-generali/organizzazione/Biologia-computazionale/BIANCO-LUCA).\n",
    "\n",
    "## Timetable and lecture rooms\n",
    "\n",
    "Practicals will take place on Tuesdays from 16:30 to 18:30 (in lecture room A221) and on Fridays from 14:30 to 16:30 (in lecture room A223). This first part of the course will tentatively run from 28/09/2018 to 21/12/2018.\n",
    "\n",
    "## Slides\n",
    "\n",
    "Slides of the practicals will be available on the top part of each practical page.\n",
    "\n",
    "\n",
    "## Acknowledgements\n",
    "\n",
    "I would like to thank Dr. David Leoni for all his help and for sharing Jupman with me.\n",
    "I would also like to thank Dr. Stefano Teso for allowing us to use some of his material of a previous course.\n"
   ]
  }
 ],
 "metadata": {
  "celltoolbar": "Edit Metadata",
  "kernelspec": {
   "display_name": "Python 3",
   "language": "python",
   "name": "python3"
  },
  "language_info": {
   "codemirror_mode": {
    "name": "ipython",
    "version": 3
   },
   "file_extension": ".py",
   "mimetype": "text/x-python",
   "name": "python",
   "nbconvert_exporter": "python",
   "pygments_lexer": "ipython3",
   "version": "3.5.2"
  },
  "toc": {
   "base_numbering": 1,
   "nav_menu": {},
   "number_sections": false,
   "sideBar": true,
   "skip_h1_title": false,
   "title_cell": "Table of Contents",
   "title_sidebar": "Contents",
   "toc_cell": false,
   "toc_position": {},
   "toc_section_display": true,
   "toc_window_display": false
  }
 },
 "nbformat": 4,
 "nbformat_minor": 2
}
