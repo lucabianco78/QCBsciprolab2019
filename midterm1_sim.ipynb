{
 "cells": [
  {
   "cell_type": "markdown",
   "metadata": {
    "nbsphinx": "hidden"
   },
   "source": [
    "### NOTE FOR LUCA\n",
    "\n",
    "**Remember to set/remove metadata as:**\n",
    "{\n",
    "  \"nbsphinx\": \"hidden\"\n",
    "}\n",
    "\n",
    "to enable/disable solutions view"
   ]
  },
  {
   "cell_type": "markdown",
   "metadata": {},
   "source": [
    "# Midterm test simulation\n",
    "\n",
    "## Before you start\n",
    "**Please write one single python script.**\n",
    "\n",
    "**IMPORTANT: Add your name and ID (matricola) on top of each .py file!**\n",
    "\n",
    "## Problem 1\n",
    "\n",
    "Given a text string $S$  (possibly on several lines), write a python function that takes the string $S$ and a second string $S_1$ (**note: assumed to be shorter than S**) in inpu and returns a list with all positions at which $S_1$ starts in $S$. If no such positions exist a warning message should be printed. \n",
    "\n",
    "Ex. \n",
    "```\n",
    "S = \"\"\"TGAATACATATTATTCCGC\n",
    "GTCCTACCAAAAAATATACATAGATAT\n",
    "GATACTAGGGGACCGGTTCCGGGATGATGAT\"\"\"\n",
    "\n",
    "print(findPositions(S, \"TGA\"))\n",
    "print(findPositions(S, \"GAT\"))\n",
    "print(findPositions(S, \"none\"))\n",
    "```\n",
    "should return:\n",
    "\n",
    "```\n",
    "String 'TGA' found at the following positions:\n",
    "[0, 45, 70, 73]\n",
    "\n",
    "String 'GAT' found at the following positions:\n",
    "[41, 46, 68, 71, 74]\n",
    "\n",
    "Warning: string 'none' not found. Returning None\n",
    "None\n",
    "```\n",
    "\n",
    "\n",
    "## Problem 2\n",
    "\n",
    "The .tsv file ```gene_models.tsv``` is a compact representation of the gene models on the genome having sequence specified in ```sequences.fasta```. The first few lines are reported below:\n",
    "```\n",
    "Chr     feature start   end     ID\n",
    "Chr05   gene    50988   51101   gene:MD05G1000100\n",
    "Chr05   ncRNA   50988   51101   ncRNA:MD05G1000100\n",
    "Chr05   gene    83210   83329   gene:MD05G1000200\n",
    "Chr05   ncRNA   83210   83329   ncRNA:MD05G1000200\n",
    "Chr05   gene    87650   91333   gene:MD05G1000300\n",
    "Chr05   mRNA    87650   91333   mRNA:MD05G1000300\n",
    "Chr05   CDS     87650   87727   CDS:MD05G1000300.8\n",
    "```\n",
    "\n",
    "as the header (first line) describes, the first column is the chromosome containing the feature (that can be gene, ncRNA, exon, CDS, ...), the third and fourth columns are the start and end position of the feature on the chromosome and the fifth row is the identifier of the feature ID. **Note that, unlike python strings, features in ```gene_models``` start from coordinate 1 instead of 0.**\n",
    "\n",
    "The ```file sequences.fasta``` stores sequence information in .fasta format. A mock entry is the following:\n",
    "```\n",
    ">Chr01 \n",
    "AGGCCTAGGTCTTCCAGAGTCGCTTTTTCCAGCTCCAGACCGATCTCTTCAG\n",
    "AGGCCAATCGCCAGTTTACCACATACACCCAGACCGATCTCTTCAG\n",
    "```\n",
    "where the first line is the identifier of the read and starts with a \">\". The sequence follows the line with the identifier and can be on multiple lines.\n",
    "\n",
    "Implement the following python functions:\n",
    "\n",
    "\n",
    "1. ```computeGeneStats(filename)```: gets the ```filename``` of a .tsv file as explained above, stores its content in a suitable data structure of your choice (hint: pandas might help here), counts (and prints) the number of features of type **gene**, printing the minimum, maximum and average gene length in the whole file. The function should also produce a bar plot of the number of genes per chromosome.\n",
    "\n",
    "**Note: The function should return the data structure containing all the data.**\n",
    "\n",
    "Calling:\n",
    "```\n",
    "fn = \"gene_models.tsv\"\n",
    "seqFile = \"sequences.fasta\"\n",
    "GenesDF = computeGeneStats(fn)\n",
    "```\n",
    "should give:\n",
    "```\n",
    "29136 genes present\n",
    "Avg gene length: 2724.71\n",
    "Min gene length: 45\n",
    "Max gene length: 53052\n",
    "```\n",
    "![](img/midterm/midtermplot.png)\n",
    "\n",
    "2. ```printSequence(geneInfo, geneID, sequenceFile)```: gets the ```geneInfo``` data structure **created by computeGeneStats**, a **gene identifier** ```geneID``` and **the filename of a fasta formatted file** ```sequenceFile``` and if ```geneID``` is present in ```geneInfo``` it **prints its length and a fasta-formatted string reporting the sequence of the gene** Note that chromosome, start and end position are saved in ```geneInfo```.  If the chromosome is not in the sequenceFile or geneID is not in geneInfo the function should display a corresponding message (see examples below). Optional: add a parameter ```outFile``` with default value None, that if set (it will contain the path to an output file) makes the function write the fasta entries to file ```outFile``` rather than to the screen.\n",
    "\n",
    "**Hint: you can use biophtyon to read a fasta file.** \n",
    "\n",
    "For example, assuming an entry:\n",
    "```\n",
    "ChrX   gene   3   7   gene:geneid1\n",
    "```\n",
    "in ```geneInfo``` and a sequence:\n",
    "```\n",
    ">ChrX\n",
    "GATTACATAACACACTACA\n",
    "```\n",
    "in ```sequenceFile```, calling ```printSequence(geneInfo,\"geneid1\",sequenceFile)``` should print:\n",
    "```\n",
    "Gene geneid1 is in ChrX and has length 5\n",
    ">geneid1:ChrX:3_7\n",
    "TTACA\n",
    "```\n",
    "Given ```GenesDF``` as returned by computeGeneStats, calling:\n",
    "```\n",
    "printSequence(GenesDF,\"MD05G1000100\",seqFile)\n",
    "print(\"\")\n",
    "printSequence(GenesDF,\"MD03G1000400\",seqFile)\n",
    "print(\"\")\n",
    "printSequence(GenesDF,\"MD08G1000100\",seqFile)\n",
    "print(\"\")\n",
    "printSequence(GenesDF,\"MD08G100019191\",seqFile)\n",
    "```\n",
    "should give:\n",
    "```\n",
    "Gene MD05G1000100 is in Chr05 and has length 114\n",
    ">MD05G1000100:Chr05:50988_51101\n",
    "CGCCCAAGGGAGTGGATCCTGTAAGCCTTATATGTATATTCCCATCTCTACCTAGCACGAGGCCTTTTGGGAGCTCATTGGCTTCGGGTTATTGTCACATCCCGACCCGAGCCC\n",
    "\n",
    "Gene MD03G1000400 is in Chr03 and has length 189\n",
    ">MD03G1000400:Chr03:21801_21989\n",
    "CGTATTATAGGAATTCTTCTTCCATTGAAAGGATGGATTGAAAGGATGGATGGCATGTTGTCTATACCTCTCGTCATTAGGATGTACAATAATGGCAGTATCACCGAGCATAGTTTCCACTCTAGTGGTGGCCACCATAATCTCACCAAAGTCTTCCTCTAGAGTATAAGCAAATGAAGTTAACATGCC\n",
    "\n",
    "Gene MD08G1000100 is in Chr08 and has length 5384\n",
    "Chr08 is not present in the sequence file.\n",
    "\n",
    "GeneID MD08G100019191 is not present in the input file.\n",
    "Gene MD05G1000100 is in Chr05 and has length 114\n",
    "```\n",
    "\n",
    "3. (Optional) Modify the function ```computeGeneStats(filename)``` to make it also plot a boxplot of the gene lengths per chromosome.\n",
    "\n",
    "Expected output:\n",
    "![](img/midterm/midtermboxplot.png)\n"
   ]
  },
  {
   "cell_type": "markdown",
   "metadata": {},
   "source": [
    "### Available material for exams\n",
    "\n",
    "The course notes can be used as the slides of the theory and practicals. Documents on the libraries are here:\n",
    "\n",
    "* [matplotlib](material/Matplotlib.pdf)\n",
    "* [numpy](material/numpy-ref-1.15.4.pdf)\n",
    "* [pandas](material/pandas.pdf)\n",
    "* [biopython](material/biopython.pdf)\n",
    "\n",
    "You can download all of them here: [archive](material/material.zip)\n",
    "\n",
    "### Download the data\n",
    "\n",
    "Create a \"qcbsciprolab-2019-31-10-NAME-SURNAME-ID\" folder on the desktop. Download the following data to the folder that you just created.\n",
    "\n",
    "The gene models .tsv file: [gene_models.tsv](midterm_sim/gene_models.tsv.gz) and the fasta file with the sequences: [sequences.fasta](midterm_sim/sequences.fasta.gz).\n",
    "Note that the files are gzipped, so before using them gunzip them in a terminal with:\n",
    "```\n",
    "gunzip sequences.fasta.gz\n",
    "gunzip gene_models.tsv.gz\n",
    "```"
   ]
  },
  {
   "cell_type": "markdown",
   "metadata": {
    "nbsphinx": "hidden"
   },
   "source": [
    "### A possible solution: "
   ]
  },
  {
   "cell_type": "markdown",
   "metadata": {
    "nbsphinx": "hidden"
   },
   "source": [
    "### Problem 1 "
   ]
  },
  {
   "cell_type": "code",
   "execution_count": 1,
   "metadata": {
    "nbsphinx": "hidden",
    "scrolled": true
   },
   "outputs": [
    {
     "name": "stdout",
     "output_type": "stream",
     "text": [
      "\n",
      "String 'TGA' found at the following positions:\n",
      "[0, 45, 70, 73]\n",
      "\n",
      "String 'GAT' found at the following positions:\n",
      "[41, 46, 68, 71, 74]\n",
      "\n",
      "Warning: string 'none' not found. Returning None\n",
      "None\n"
     ]
    }
   ],
   "source": [
    "%reset -s -f \n",
    "\n",
    "\n",
    "def findPositions(S, S1):\n",
    "    s1len = len(S1)\n",
    "    S = S.replace(\"\\n\",\"\")\n",
    "    ret = [x for x in range(0,len(S)) if S[x:x+s1len] == S1]\n",
    "    if len(ret) > 0:\n",
    "        print(\"\\nString '{}' found at the following positions:\".format(S1))\n",
    "        return ret\n",
    "    else:\n",
    "        print(\"\\nWarning: string '{}' not found. Returning None\".format(S1,S))\n",
    "        \n",
    "\n",
    "\n",
    "S = \"\"\"TGAATACATATTATTCCGC\n",
    "GTCCTACCAAAAAATATACATAGATAT\n",
    "GATACTAGGGGACCGGTTCCGGGATGATGAT\"\"\"\n",
    "\n",
    "print(findPositions(S, \"TGA\"))\n",
    "print(findPositions(S, \"GAT\"))\n",
    "print(findPositions(S, \"none\"))\n"
   ]
  },
  {
   "cell_type": "markdown",
   "metadata": {
    "nbsphinx": "hidden"
   },
   "source": [
    "### Problem 2"
   ]
  },
  {
   "cell_type": "code",
   "execution_count": 3,
   "metadata": {
    "nbsphinx": "hidden",
    "scrolled": true
   },
   "outputs": [
    {
     "name": "stdout",
     "output_type": "stream",
     "text": [
      "29136 genes present\n",
      "Avg gene length: 2724.71\n",
      "Min gene length: 45\n",
      "Max gene length: 53052\n"
     ]
    },
    {
     "data": {
      "image/png": "[encoded data removed]",
      "text/plain": [
       "<Figure size 432x288 with 1 Axes>"
      ]
     },
     "metadata": {
      "needs_background": "light"
     },
     "output_type": "display_data"
    },
    {
     "data": {
      "image/png": "[encoded data removed]",
      "text/plain": [
       "<Figure size 432x288 with 1 Axes>"
      ]
     },
     "metadata": {
      "needs_background": "light"
     },
     "output_type": "display_data"
    },
    {
     "name": "stdout",
     "output_type": "stream",
     "text": [
      "Gene MD05G1000100 is in Chr05 and has length 114\n",
      ">MD05G1000100:Chr05:50988_51101\n",
      "CGCCCAAGGGAGTGGATCCTGTAAGCCTTATATGTATATTCCCATCTCTACCTAGCACGAGGCCTTTTGGGAGCTCATTGGCTTCGGGTTATTGTCACATCCCGACCCGAGCCC\n",
      "\n",
      "Gene MD03G1000400 is in Chr03 and has length 189\n",
      ">MD03G1000400:Chr03:21801_21989\n",
      "CGTATTATAGGAATTCTTCTTCCATTGAAAGGATGGATTGAAAGGATGGATGGCATGTTGTCTATACCTCTCGTCATTAGGATGTACAATAATGGCAGTATCACCGAGCATAGTTTCCACTCTAGTGGTGGCCACCATAATCTCACCAAAGTCTTCCTCTAGAGTATAAGCAAATGAAGTTAACATGCC\n",
      "\n",
      "Gene MD08G1000100 is in Chr08 and has length 5384\n",
      "Chr08 is not present in the sequence file.\n",
      "\n",
      "GeneID MD08G100019191 is not present in the input file.\n",
      "Gene MD05G1000100 is in Chr05 and has length 114\n"
     ]
    }
   ],
   "source": [
    "%reset -s -f\n",
    "\"\"\"exercise.py\"\"\"\n",
    "\n",
    "import matplotlib.pyplot as plt\n",
    "import pandas as pd\n",
    "import numpy as np\n",
    "from Bio import SeqIO\n",
    "\n",
    "\n",
    "def computeGeneStats(filename):\n",
    "    geneInfo = pd.read_csv(filename, sep=\"\\t\", header = 0)\n",
    "    genes = geneInfo[ geneInfo[\"feature\"] == \"gene\"] \n",
    "    #print(genes.head())\n",
    "    print(\"{} genes present\".format(genes.shape[0]))\n",
    "    #print(genes.head())\n",
    "    avg = np.mean(genes[\"end\"] - genes[\"start\"] + 1)\n",
    "    m = np.min(genes[\"end\"] - genes[\"start\"] + 1 )\n",
    "    M = np.max(genes[\"end\"] - genes[\"start\"] + 1 )\n",
    "    print(\"Avg gene length: {:.2f}\\nMin gene length: {}\\nMax gene length: {}\".format(avg, m, M))\n",
    "        \n",
    "    grpd = genes.groupby([\"Chr\"])\n",
    "    agg = grpd.aggregate(pd.DataFrame.count)[\"feature\"]\n",
    "    agg.plot(kind = 'bar')\n",
    "    plt.title(\"Gene count by Chr\")\n",
    "    plt.ylabel(\"# Genes\")\n",
    "    plt.xlabel(\"Chr\")\n",
    "    plt.show()\n",
    "    \n",
    "    bpdata = {}\n",
    "    for i, g in grpd:\n",
    "        if(i not in bpdata):\n",
    "            bpdata[i] = []\n",
    "        bpdata[i] = g[\"end\"] - g[\"start\"] + 1\n",
    "\n",
    "    pdData = pd.DataFrame(bpdata)\n",
    "    pdData.plot(kind='box')\n",
    "    plt.title(\"Gene Lengths Boxplot\")\n",
    "    plt.ylabel(\"Gene length\")\n",
    "    plt.xlabel(\"Chr\")\n",
    "    plt.show()\n",
    "   \n",
    "    return geneInfo\n",
    "\n",
    "def printSequence(geneInfo, geneID, sequenceFile, outFile = None):\n",
    "        gn = \"gene:\" + geneID\n",
    "        gene = geneInfo[geneInfo[\"ID\"] == gn]\n",
    "        of = None\n",
    "        if outFile != None:\n",
    "            of = open(outFile, \"w\")\n",
    "        \n",
    "        if len(gene) > 0:\n",
    "            seqDict = SeqIO.to_dict(SeqIO.parse(sequenceFile, \"fasta\"))\n",
    "            chr = gene.iloc[0][\"Chr\"]\n",
    "            start = gene.iloc[0][\"start\"]\n",
    "            end = gene.iloc[0][\"end\"]\n",
    "            print(\"Gene {} is in {} and has length {}\".format(geneID,chr, end-start + 1))\n",
    "            if chr in seqDict:\n",
    "                s = seqDict[chr].seq[start-1:end ]\n",
    "                if outFile != None:\n",
    "                    of.write(\">\"+geneID + \":\" + chr +\":\" + str(start) + \"_\" + str(end)+\"\\n\")\n",
    "                    of.write(str(s)+\"\\n\")\n",
    "                else:\n",
    "                    print(\">\"+geneID + \":\" + chr +\":\" + str(start) + \"_\" + str(end))\n",
    "                    print(str(s))\n",
    "            else:\n",
    "                print(chr, \"is not present in the sequence file.\")\n",
    "            \n",
    "        else:\n",
    "            print(\"GeneID {} is not present in the input file.\".format(geneID))\n",
    "        \n",
    "        if outFile != None:\n",
    "            of.close()\n",
    "\n",
    "\n",
    "\n",
    "fn = \"./midterm_sim/gene_models.tsv\"\n",
    "seqFile = \"./midterm_sim/sequences.fasta\"\n",
    "\n",
    "GenesDF = computeGeneStats(fn)\n",
    "printSequence(GenesDF,\"MD05G1000100\",seqFile)\n",
    "print(\"\")\n",
    "printSequence(GenesDF,\"MD03G1000400\",seqFile)\n",
    "print(\"\")\n",
    "printSequence(GenesDF,\"MD08G1000100\",seqFile)\n",
    "print(\"\")\n",
    "printSequence(GenesDF,\"MD08G100019191\",seqFile)\n",
    "\n",
    "printSequence(GenesDF,\"MD05G1000100\",seqFile, \"MD05G1000100.fasta\")\n",
    "\n"
   ]
  }
 ],
 "metadata": {
  "celltoolbar": "Edit Metadata",
  "kernelspec": {
   "display_name": "Python 3",
   "language": "python",
   "name": "python3"
  },
  "language_info": {
   "codemirror_mode": {
    "name": "ipython",
    "version": 3
   },
   "file_extension": ".py",
   "mimetype": "text/x-python",
   "name": "python",
   "nbconvert_exporter": "python",
   "pygments_lexer": "ipython3",
   "version": "3.6.8"
  }
 },
 "nbformat": 4,
 "nbformat_minor": 2
}
